{
 "cells": [
  {
   "cell_type": "code",
   "execution_count": 1,
   "id": "2180cdd0",
   "metadata": {},
   "outputs": [
    {
     "name": "stdout",
     "output_type": "stream",
     "text": [
      "✅ Key loaded\n"
     ]
    }
   ],
   "source": [
    "from dotenv import load_dotenv\n",
    "from pathlib import Path\n",
    "import os\n",
    "\n",
    "load_dotenv(dotenv_path=Path().resolve().parent / \".env\")\n",
    "assert os.getenv(\"OPENAI_API_KEY\"), \"Missing key\"\n",
    "print(\"✅ Key loaded\")\n"
   ]
  },
  {
   "cell_type": "code",
   "execution_count": 3,
   "id": "a5734c4b",
   "metadata": {},
   "outputs": [
    {
     "name": "stdout",
     "output_type": "stream",
     "text": [
      "- Dynamic pricing copilot: Forecasts demand using comps, seasonality, local events, flight/search trends, and occupancy to auto-adjust nightly rates and minimum stays; supports guardrails and scenario planning.\n",
      "\n",
      "- AI guest messaging and concierge: Instantly answers inquiries, handles check-in/out instructions, house rules, and local recs in multiple languages; personalizes upsells (late checkout, gear rentals), detects sentiment, and escalates edge cases.\n",
      "\n",
      "- Smart operations orchestrator: Predicts turnover needs, auto-schedules cleaners/maintenance, generates smart lock codes, tracks consumables, and flags anomalies; uses photo-based QA to detect damage and create claim-ready documentation.\n"
     ]
    }
   ],
   "source": [
    "from openai import OpenAI\n",
    "client = OpenAI()\n",
    "\n",
    "resp = client.chat.completions.create(\n",
    "    model=\"gpt-5\",\n",
    "    messages=[{\"role\": \"user\", \"content\": \"Give me 3 AI features for vacation rental hosts.\"}],\n",
    ")\n",
    "print(resp.choices[0].message.content)"
   ]
  },
  {
   "cell_type": "code",
   "execution_count": null,
   "id": "e688e9fa",
   "metadata": {},
   "outputs": [],
   "source": []
  }
 ],
 "metadata": {
  "kernelspec": {
   "display_name": ".venv",
   "language": "python",
   "name": "python3"
  },
  "language_info": {
   "codemirror_mode": {
    "name": "ipython",
    "version": 3
   },
   "file_extension": ".py",
   "mimetype": "text/x-python",
   "name": "python",
   "nbconvert_exporter": "python",
   "pygments_lexer": "ipython3",
   "version": "3.13.6"
  }
 },
 "nbformat": 4,
 "nbformat_minor": 5
}
